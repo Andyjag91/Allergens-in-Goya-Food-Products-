{
 "cells": [
  {
   "cell_type": "code",
   "execution_count": 1,
   "metadata": {},
   "outputs": [],
   "source": [
    "# Dependencies\n",
    "from bs4 import BeautifulSoup\n",
    "import requests\n",
    "import pandas as pd\n",
    "from splinter import Browser\n",
    "from webdriver_manager.chrome import ChromeDriverManager\n",
    "from time import sleep"
   ]
  },
  {
   "cell_type": "code",
   "execution_count": null,
   "metadata": {},
   "outputs": [],
   "source": [
    "url='https://world.openfoodfacts.org/brand/goya/ingredients'\n",
    "response=requests.get(url)"
   ]
  },
  {
   "cell_type": "code",
   "execution_count": null,
   "metadata": {},
   "outputs": [],
   "source": [
    "soup = BeautifulSoup(response.text, 'html.parser')"
   ]
  },
  {
   "cell_type": "code",
   "execution_count": null,
   "metadata": {},
   "outputs": [],
   "source": [
    "#code to do the following\n",
    "#1.get all the ingredient list\n",
    "#2.get all the links to access the products\n",
    "\n",
    "\n",
    "link_list=[]\n",
    "ingredient_list=[]\n",
    "results = soup.find_all(\"a\", {'class':[\"tag known\",\"tag user_defined\"]})\n",
    "url='https://world.openfoodfacts.org'\n",
    "for result in results:\n",
    "    try:   \n",
    "        sleep(0.5)\n",
    "        ingredients=result.text\n",
    "        link= result[\"href\"]\n",
    "        print(link)\n",
    "        base_url=url+link\n",
    "        print(base_url)\n",
    "        link_list.append(base_url)\n",
    "        ingredient_list.append(ingredients)\n",
    "        \n",
    "    except:\n",
    "        pass"
   ]
  },
  {
   "cell_type": "code",
   "execution_count": null,
   "metadata": {},
   "outputs": [],
   "source": [
    "#getting all the values of ingredients having milk\n",
    "milk_ingre = [x for x in ingredient_list if \"milk\" in x]\n",
    "\n",
    "milk_ingre"
   ]
  },
  {
   "cell_type": "code",
   "execution_count": null,
   "metadata": {},
   "outputs": [],
   "source": [
    "#using all the milk urls getting all the products having milk and storing in milk_dict\n",
    "milk_dict={\"Ingredient\":[],\"Products\":[]}\n",
    "pro_list=[]\n",
    "for link in milk_list:\n",
    "    try:\n",
    "        ingredient = link.split('/')[-1]\n",
    "        response=requests.get(link)\n",
    "        value_soup= BeautifulSoup(response.text, 'html.parser')\n",
    "        values=value_soup.find('div', id=\"search_results\").find_all('a')\n",
    "        for value in values:\n",
    "        #print(value)\n",
    "            pro_list.append(value[\"title\"])\n",
    "            print(pro_list)\n",
    "    \n",
    "        milk_dict[\"Ingredient\"].append(ingredient)\n",
    "        milk_dict[\"Products\"].append(pro_list)\n",
    "        pro_list=[]\n",
    "    except:\n",
    "        pass"
   ]
  },
  {
   "cell_type": "code",
   "execution_count": null,
   "metadata": {},
   "outputs": [],
   "source": [
    "final_milk_df=pd.DataFrame.from_dict(milk_dict)"
   ]
  },
  {
   "cell_type": "code",
   "execution_count": null,
   "metadata": {},
   "outputs": [],
   "source": [
    "final_milk_df.to_csv(\"final_milk_csv.csv\")"
   ]
  }
 ],
 "metadata": {
  "kernelspec": {
   "display_name": "Python [conda env:PythonData] *",
   "language": "python",
   "name": "conda-env-PythonData-py"
  },
  "language_info": {
   "codemirror_mode": {
    "name": "ipython",
    "version": 3
   },
   "file_extension": ".py",
   "mimetype": "text/x-python",
   "name": "python",
   "nbconvert_exporter": "python",
   "pygments_lexer": "ipython3",
   "version": "3.6.10"
  }
 },
 "nbformat": 4,
 "nbformat_minor": 4
}
