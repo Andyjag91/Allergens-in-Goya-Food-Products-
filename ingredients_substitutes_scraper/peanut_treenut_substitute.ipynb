{
 "cells": [
  {
   "cell_type": "code",
   "execution_count": 1,
   "metadata": {},
   "outputs": [],
   "source": [
    "import pandas as pd\n",
    "import requests\n",
    "from bs4 import BeautifulSoup as bs"
   ]
  },
  {
   "cell_type": "code",
   "execution_count": 2,
   "metadata": {},
   "outputs": [],
   "source": [
    "url = \"https://thefitcookie.com/healthy-nut-alternatives/\"\n",
    "url_path = requests.get(url)"
   ]
  },
  {
   "cell_type": "code",
   "execution_count": 3,
   "metadata": {},
   "outputs": [],
   "source": [
    "soup = bs(url_path.content)"
   ]
  },
  {
   "cell_type": "code",
   "execution_count": 4,
   "metadata": {},
   "outputs": [
    {
     "data": {
      "text/plain": [
       "12"
      ]
     },
     "execution_count": 4,
     "metadata": {},
     "output_type": "execute_result"
    }
   ],
   "source": [
    "ul_list = soup.find_all(\"ul\")\n",
    "len(ul_list)"
   ]
  },
  {
   "cell_type": "code",
   "execution_count": 5,
   "metadata": {},
   "outputs": [
    {
     "name": "stdout",
     "output_type": "stream",
     "text": [
      "[<ul><li>Sesame seeds (and Tahini)</li><li>Sunflower seeds (and <a class=\"tasty-link\" data-tasty-links-no-disclosure=\"\" href=\"https://amzn.to/2HY6xK2\" rel=\"nofollow\" target=\"_blank\">SunButter</a>)</li><li>Pumpkin and squash seeds (aka pepitas and pumpkin seed butter)</li><li>Hemp seeds and hemp hearts (and hemp butter)</li><li>Watermelon seeds (you can buy these roasted online)</li><li>Chia seeds (fine consumed whole)</li><li>Flax seeds (should be ground first to get the benefits)</li><li>Pomegranate seeds (aka arils)</li><li>Papaya seeds (I haven’t tried this one yet!)</li></ul>]\n"
     ]
    }
   ],
   "source": [
    "firstH2 = soup.find('h2') # Start here\n",
    "uls = []\n",
    "for nextSibling in firstH2.findNextSiblings():\n",
    "#  if nextSibling.name == 'h2':\n",
    "#        break\n",
    "  if nextSibling.name == 'ul':\n",
    "        uls.append(nextSibling)\n",
    "        print (uls)"
   ]
  },
  {
   "cell_type": "code",
   "execution_count": null,
   "metadata": {},
   "outputs": [],
   "source": []
  }
 ],
 "metadata": {
  "kernelspec": {
   "display_name": "Python [conda env:PythonData]",
   "language": "python",
   "name": "conda-env-PythonData-py"
  },
  "language_info": {
   "codemirror_mode": {
    "name": "ipython",
    "version": 3
   },
   "file_extension": ".py",
   "mimetype": "text/x-python",
   "name": "python",
   "nbconvert_exporter": "python",
   "pygments_lexer": "ipython3",
   "version": "3.6.10"
  }
 },
 "nbformat": 4,
 "nbformat_minor": 4
}
