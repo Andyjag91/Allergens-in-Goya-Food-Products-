{
 "cells": [
  {
   "cell_type": "code",
   "execution_count": 1,
   "metadata": {},
   "outputs": [],
   "source": [
    "# Dependencies\n",
    "from bs4 import BeautifulSoup\n",
    "import requests\n",
    "import pandas as pd\n",
    "from splinter import Browser\n",
    "from webdriver_manager.chrome import ChromeDriverManager\n",
    "from time import sleep"
   ]
  },
  {
   "cell_type": "code",
   "execution_count": null,
   "metadata": {},
   "outputs": [],
   "source": [
    "url='https://world.openfoodfacts.org/brand/goya/ingredients'\n",
    "response=requests.get(url)"
   ]
  },
  {
   "cell_type": "code",
   "execution_count": null,
   "metadata": {},
   "outputs": [],
   "source": [
    "soup = BeautifulSoup(response.text, 'html.parser')"
   ]
  },
  {
   "cell_type": "code",
   "execution_count": null,
   "metadata": {},
   "outputs": [],
   "source": [
    "#1.get all the ingredient list\n",
    "#2.get all the links to access the products\n",
    "#3.get all the products and respective ingredients in a dict\n",
    "\n",
    "#final_dict={\"Ingredient\":[],\"Products\":[]}\n",
    "#product_list=[]\n",
    "link_list=[]\n",
    "ingredient_list=[]\n",
    "results = soup.find_all(\"a\", {'class':[\"tag known\",\"tag user_defined\"]})\n",
    "url='https://world.openfoodfacts.org'\n",
    "for result in results:\n",
    "    try:   \n",
    "        sleep(0.5)\n",
    "        ingredients=result.text\n",
    "        link= result[\"href\"]\n",
    "        print(link)\n",
    "        base_url=url+link\n",
    "        print(base_url)\n",
    "        link_list.append(base_url)\n",
    "        ingredient_list.append(ingredients)\n",
    "        \n",
    "    except:\n",
    "        pass"
   ]
  },
  {
   "cell_type": "code",
   "execution_count": null,
   "metadata": {},
   "outputs": [],
   "source": [
    "#get the link for wheat\n",
    "wheat_link = [x for x in link_list if \"wheat\" in x]\n",
    "\n",
    "wheat_link"
   ]
  },
  {
   "cell_type": "code",
   "execution_count": null,
   "metadata": {},
   "outputs": [],
   "source": [
    "#getting all the product containing wheat and saving in wheat_link\n",
    "wheat_dict={\"Ingredient\":[],\"Products\":[]}\n",
    "pro_wheat_list=[]\n",
    "for link in peanut_link:\n",
    "    try:\n",
    "        ingredient = link.split('/')[-1]\n",
    "        response=requests.get(link)\n",
    "        value_soup= BeautifulSoup(response.text, 'html.parser')\n",
    "        values=value_soup.find('div', id=\"search_results\").find_all('a')\n",
    "        for value in values:\n",
    "        #print(value)\n",
    "            pro_wheat_list.append(value[\"title\"])\n",
    "            print(pro_peanut_list)\n",
    "    \n",
    "        wheat_dict[\"Ingredient\"].append(ingredient)\n",
    "        wheat_dict[\"Products\"].append(pro_wheat_list)\n",
    "        pro_list=[]\n",
    "    except:\n",
    "        pass"
   ]
  },
  {
   "cell_type": "code",
   "execution_count": null,
   "metadata": {},
   "outputs": [],
   "source": [
    "final_wheat_df=pd.DataFrame.from_dict(wheat_dict)"
   ]
  },
  {
   "cell_type": "code",
   "execution_count": null,
   "metadata": {},
   "outputs": [],
   "source": [
    "final_wheat_df.to_csv(\"final_wheat_csv.csv\")"
   ]
  },
  {
   "cell_type": "code",
   "execution_count": null,
   "metadata": {},
   "outputs": [],
   "source": []
  }
 ],
 "metadata": {
  "kernelspec": {
   "display_name": "Python [conda env:PythonData] *",
   "language": "python",
   "name": "conda-env-PythonData-py"
  },
  "language_info": {
   "codemirror_mode": {
    "name": "ipython",
    "version": 3
   },
   "file_extension": ".py",
   "mimetype": "text/x-python",
   "name": "python",
   "nbconvert_exporter": "python",
   "pygments_lexer": "ipython3",
   "version": "3.6.10"
  }
 },
 "nbformat": 4,
 "nbformat_minor": 4
}
