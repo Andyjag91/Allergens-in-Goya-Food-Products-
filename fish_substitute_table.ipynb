{
 "cells": [
  {
   "cell_type": "code",
   "execution_count": 1,
   "metadata": {},
   "outputs": [],
   "source": [
    "import pandas as pd\n",
    "import requests\n",
    "from bs4 import BeautifulSoup as bs"
   ]
  },
  {
   "cell_type": "code",
   "execution_count": 2,
   "metadata": {},
   "outputs": [],
   "source": [
    "url = \"https://www.medicalnewstoday.com/articles/fish-substitute\"\n",
    "url_path = requests.get(url)"
   ]
  },
  {
   "cell_type": "code",
   "execution_count": 3,
   "metadata": {},
   "outputs": [],
   "source": [
    "soup = bs(url_path.content)\n",
    "# soup"
   ]
  },
  {
   "cell_type": "code",
   "execution_count": 11,
   "metadata": {},
   "outputs": [
    {
     "data": {
      "text/plain": [
       "['Tofu fish (‘tofish’)',\n",
       " 'Smoked carrot salmon',\n",
       " 'Banana blossom fish',\n",
       " 'Jackfruit tuna',\n",
       " 'Seitan scampi, prawns, and shrimp',\n",
       " 'Vegan fish sticks and fillets',\n",
       " 'Garbanzo bean fish-less cakes',\n",
       " 'Mushroom fish pie',\n",
       " 'Teriyaki chicken sushi rolls',\n",
       " 'Fish sauce and flavorings',\n",
       " 'Summary']"
      ]
     },
     "execution_count": 11,
     "metadata": {},
     "output_type": "execute_result"
    }
   ],
   "source": [
    "fish_substitues = []\n",
    "for a in soup.find_all(\"a\", class_=\"chartbeat-section\"):\n",
    "    fish_substitues.append(a.text)\n",
    "fish_substitues"
   ]
  },
  {
   "cell_type": "code",
   "execution_count": 12,
   "metadata": {},
   "outputs": [],
   "source": [
    "del fish_substitues[-1]"
   ]
  },
  {
   "cell_type": "code",
   "execution_count": 13,
   "metadata": {},
   "outputs": [
    {
     "data": {
      "text/plain": [
       "['Tofu fish (‘tofish’)',\n",
       " 'Smoked carrot salmon',\n",
       " 'Banana blossom fish',\n",
       " 'Jackfruit tuna',\n",
       " 'Seitan scampi, prawns, and shrimp',\n",
       " 'Vegan fish sticks and fillets',\n",
       " 'Garbanzo bean fish-less cakes',\n",
       " 'Mushroom fish pie',\n",
       " 'Teriyaki chicken sushi rolls',\n",
       " 'Fish sauce and flavorings']"
      ]
     },
     "execution_count": 13,
     "metadata": {},
     "output_type": "execute_result"
    }
   ],
   "source": [
    "fish_substitues"
   ]
  },
  {
   "cell_type": "code",
   "execution_count": 15,
   "metadata": {},
   "outputs": [
    {
     "data": {
      "text/html": [
       "<div>\n",
       "<style scoped>\n",
       "    .dataframe tbody tr th:only-of-type {\n",
       "        vertical-align: middle;\n",
       "    }\n",
       "\n",
       "    .dataframe tbody tr th {\n",
       "        vertical-align: top;\n",
       "    }\n",
       "\n",
       "    .dataframe thead th {\n",
       "        text-align: right;\n",
       "    }\n",
       "</style>\n",
       "<table border=\"1\" class=\"dataframe\">\n",
       "  <thead>\n",
       "    <tr style=\"text-align: right;\">\n",
       "      <th></th>\n",
       "      <th>ingredient</th>\n",
       "      <th>products</th>\n",
       "    </tr>\n",
       "  </thead>\n",
       "  <tbody>\n",
       "    <tr>\n",
       "      <th>0</th>\n",
       "      <td>fish</td>\n",
       "      <td>Tofu fish (‘tofish’)</td>\n",
       "    </tr>\n",
       "    <tr>\n",
       "      <th>1</th>\n",
       "      <td>fish</td>\n",
       "      <td>Smoked carrot salmon</td>\n",
       "    </tr>\n",
       "    <tr>\n",
       "      <th>2</th>\n",
       "      <td>fish</td>\n",
       "      <td>Banana blossom fish</td>\n",
       "    </tr>\n",
       "    <tr>\n",
       "      <th>3</th>\n",
       "      <td>fish</td>\n",
       "      <td>Jackfruit tuna</td>\n",
       "    </tr>\n",
       "    <tr>\n",
       "      <th>4</th>\n",
       "      <td>fish</td>\n",
       "      <td>Seitan scampi, prawns, and shrimp</td>\n",
       "    </tr>\n",
       "    <tr>\n",
       "      <th>5</th>\n",
       "      <td>fish</td>\n",
       "      <td>Vegan fish sticks and fillets</td>\n",
       "    </tr>\n",
       "    <tr>\n",
       "      <th>6</th>\n",
       "      <td>fish</td>\n",
       "      <td>Garbanzo bean fish-less cakes</td>\n",
       "    </tr>\n",
       "    <tr>\n",
       "      <th>7</th>\n",
       "      <td>fish</td>\n",
       "      <td>Mushroom fish pie</td>\n",
       "    </tr>\n",
       "    <tr>\n",
       "      <th>8</th>\n",
       "      <td>fish</td>\n",
       "      <td>Teriyaki chicken sushi rolls</td>\n",
       "    </tr>\n",
       "    <tr>\n",
       "      <th>9</th>\n",
       "      <td>fish</td>\n",
       "      <td>Fish sauce and flavorings</td>\n",
       "    </tr>\n",
       "  </tbody>\n",
       "</table>\n",
       "</div>"
      ],
      "text/plain": [
       "  ingredient                           products\n",
       "0       fish               Tofu fish (‘tofish’)\n",
       "1       fish               Smoked carrot salmon\n",
       "2       fish                Banana blossom fish\n",
       "3       fish                     Jackfruit tuna\n",
       "4       fish  Seitan scampi, prawns, and shrimp\n",
       "5       fish      Vegan fish sticks and fillets\n",
       "6       fish      Garbanzo bean fish-less cakes\n",
       "7       fish                  Mushroom fish pie\n",
       "8       fish       Teriyaki chicken sushi rolls\n",
       "9       fish          Fish sauce and flavorings"
      ]
     },
     "execution_count": 15,
     "metadata": {},
     "output_type": "execute_result"
    }
   ],
   "source": [
    "fish_substitues_df = pd.DataFrame(fish_substitues)\n",
    "fish_substitues_df.rename(columns={0: \"products\"}, inplace=True)\n",
    "ingredient = \"fish\"\n",
    "fish_substitues_df[\"ingredient\"] = ingredient\n",
    "fish_substitues_df = fish_substitues_df[[\"ingredient\", \"products\"]]\n",
    "fish_substitues_df"
   ]
  },
  {
   "cell_type": "code",
   "execution_count": 16,
   "metadata": {},
   "outputs": [],
   "source": [
    "fish_substitues_df.to_csv(\"data/fish_substitute.csv\")"
   ]
  },
  {
   "cell_type": "code",
   "execution_count": null,
   "metadata": {},
   "outputs": [],
   "source": []
  }
 ],
 "metadata": {
  "kernelspec": {
   "display_name": "Python [conda env:PythonData] *",
   "language": "python",
   "name": "conda-env-PythonData-py"
  },
  "language_info": {
   "codemirror_mode": {
    "name": "ipython",
    "version": 3
   },
   "file_extension": ".py",
   "mimetype": "text/x-python",
   "name": "python",
   "nbconvert_exporter": "python",
   "pygments_lexer": "ipython3",
   "version": "3.6.10"
  }
 },
 "nbformat": 4,
 "nbformat_minor": 4
}
